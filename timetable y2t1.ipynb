{
 "cells": [
  {
   "cell_type": "code",
   "execution_count": 1,
   "metadata": {
    "collapsed": true
   },
   "outputs": [],
   "source": [
    "from openpyxl.workbook import Workbook\n",
    "from openpyxl import load_workbook\n",
    "from openpyxl.utils.cell import range_boundaries\n",
    "import pandas as pd\n"
   ]
  },
  {
   "cell_type": "code",
   "execution_count": 9,
   "outputs": [],
   "source": [
    "wb = load_workbook(filename = 'y2t1_Timetable.xlsx')\n",
    "\n",
    "for st_name in wb.sheetnames:\n",
    "    st = wb[st_name]\n",
    "    mcr_coord_list = [mcr.coord for mcr in st.merged_cells.ranges]\n",
    "\n",
    "    for mcr in mcr_coord_list:\n",
    "        min_col, min_row, max_col, max_row = range_boundaries(mcr)\n",
    "        top_left_cell_value = st.cell(row=min_row, column=min_col).value\n",
    "        st.unmerge_cells(mcr)\n",
    "        for row in st.iter_rows(min_col=min_col, min_row=min_row, max_col=max_col, max_row=max_row):\n",
    "            for cell in row:\n",
    "                cell.value = str(top_left_cell_value)\n",
    "\n",
    "wb.save('merged_tmp.xlsx')"
   ],
   "metadata": {
    "collapsed": false,
    "pycharm": {
     "name": "#%%\n"
    }
   }
  },
  {
   "cell_type": "code",
   "execution_count": null,
   "outputs": [],
   "source": [],
   "metadata": {
    "collapsed": false,
    "pycharm": {
     "name": "#%%\n"
    }
   }
  }
 ],
 "metadata": {
  "kernelspec": {
   "display_name": "Python 3",
   "language": "python",
   "name": "python3"
  },
  "language_info": {
   "codemirror_mode": {
    "name": "ipython",
    "version": 2
   },
   "file_extension": ".py",
   "mimetype": "text/x-python",
   "name": "python",
   "nbconvert_exporter": "python",
   "pygments_lexer": "ipython2",
   "version": "2.7.6"
  }
 },
 "nbformat": 4,
 "nbformat_minor": 0
}