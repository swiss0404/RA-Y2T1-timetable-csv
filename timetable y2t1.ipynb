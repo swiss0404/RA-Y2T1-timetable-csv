{
 "cells": [
  {
   "source": [
    "from openpyxl.workbook import Workbook\n",
    "from openpyxl import load_workbook\n",
    "import pandas as pd\n",
    "from datetime import datetime\n"
   ],
   "cell_type": "code",
   "metadata": {
    "collapsed": true
   },
   "execution_count": 199,
   "outputs": []
  },
  {
   "cell_type": "code",
   "execution_count": 200,
   "outputs": [],
   "source": [
    "def addYears(d):\n",
    "    try: \n",
    "        return d.replace(year = d.year + 57)\n",
    "    except ValueError:     \n",
    "        return d + (date(d.year + 57, 1, 1) - date(d.year, 1, 1))"
   ],
   "metadata": {
    "collapsed": false,
    "pycharm": {
     "name": "#%%\n"
    }
   }
  },
  {
   "cell_type": "code",
   "execution_count": 201,
   "metadata": {},
   "outputs": [],
   "source": [
    "def list_check(list, index):\n",
    "    try:\n",
    "        return list[index]\n",
    "    except IndexError:\n",
    "        return int(list[index-1])+30"
   ]
  },
  {
   "cell_type": "code",
   "execution_count": 202,
   "metadata": {},
   "outputs": [],
   "source": [
    " def time_12_to_24(time):\n",
    "    time = time.replace(\".\",\":\")\n",
    "    d = datetime.strptime(time, \"%H:%M\")\n",
    "    return d.strftime(\"%I:%M %p\")"
   ]
  },
  {
   "source": [
    "import openpyxl\n",
    "print(openpyxl.__version__)"
   ],
   "cell_type": "code",
   "metadata": {},
   "execution_count": 203,
   "outputs": [
    {
     "output_type": "stream",
     "name": "stdout",
     "text": [
      "3.0.7\n"
     ]
    }
   ]
  },
  {
   "cell_type": "code",
   "execution_count": 204,
   "outputs": [
    {
     "output_type": "stream",
     "name": "stdout",
     "text": [
      "[1, 28, 53, 76, 103, 138, 172, 196, 227, 249, 272, 294, 310, 326, 360, 378, 398, 419, 442, 467, 484, 500]\n"
     ]
    }
   ],
   "source": [
    "wb = load_workbook(filename = 'th.xlsx')\n",
    "ws = wb.active\n",
    "week_row = []\n",
    "for row in ws.iter_rows(min_col=1, max_col=1):\n",
    "    for cell in row:\n",
    "        if \"Week\" in cell.value:\n",
    "            week_row.append(cell.row)\n",
    "print(week_row)\n"
   ],
   "metadata": {
    "collapsed": false,
    "pycharm": {
     "name": "#%%\n"
    },
    "tags": []
   }
  },
  {
   "cell_type": "code",
   "execution_count": 207,
   "metadata": {
    "tags": []
   },
   "outputs": [
    {
     "output_type": "display_data",
     "data": {
      "text/plain": "                                               Subject Start date Start time  \\\n0     Orientation ชันปีที 2 (อ.ณัฐวุธ และ อ.กวินทรา... 2021-07-12   09:00 AM   \n1     Orientation RAID 205 (อ.พรพรรณ PM) ห้อง Audit... 2021-07-12   10:00 AM   \n2     Lecture 1 Cellular and body homeostasis (อ.ฐิ... 2021-07-12   10:30 AM   \n3     Lecture 2 Membrane transport and membrane pot... 2021-07-12   01:30 PM   \n4     Lecture 3 Excitable cell impulse and synaptic... 2021-07-13   10:00 AM   \n..                                                 ...        ...        ...   \n243                            RAGE 201\\nResearch Tour 2021-12-03   01:30 PM   \n244                                    RESEARCH MARKET 2021-12-07   08:30 AM   \n245                                    RESEARCH MARKET 2021-12-07   01:30 PM   \n246                                    RESEARCH MARKET 2021-12-08   08:30 AM   \n247                                    RESEARCH MARKET 2021-12-08   01:30 PM   \n\n      End date  End time  \n0   2021-07-12  10:00 AM  \n1   2021-07-12  10:30 AM  \n2   2021-07-12  11:30 AM  \n3   2021-07-12  03:30 PM  \n4   2021-07-13  12:00 PM  \n..         ...       ...  \n243 2021-12-03  05:00 PM  \n244 2021-12-07  12:00 PM  \n245 2021-12-07  05:00 PM  \n246 2021-12-08  12:00 PM  \n247 2021-12-08  05:00 PM  \n\n[248 rows x 5 columns]",
      "text/html": "<div>\n<style scoped>\n    .dataframe tbody tr th:only-of-type {\n        vertical-align: middle;\n    }\n\n    .dataframe tbody tr th {\n        vertical-align: top;\n    }\n\n    .dataframe thead th {\n        text-align: right;\n    }\n</style>\n<table border=\"1\" class=\"dataframe\">\n  <thead>\n    <tr style=\"text-align: right;\">\n      <th></th>\n      <th>Subject</th>\n      <th>Start date</th>\n      <th>Start time</th>\n      <th>End date</th>\n      <th>End time</th>\n    </tr>\n  </thead>\n  <tbody>\n    <tr>\n      <th>0</th>\n      <td>Orientation ชันปีที 2 (อ.ณัฐวุธ และ อ.กวินทรา...</td>\n      <td>2021-07-12</td>\n      <td>09:00 AM</td>\n      <td>2021-07-12</td>\n      <td>10:00 AM</td>\n    </tr>\n    <tr>\n      <th>1</th>\n      <td>Orientation RAID 205 (อ.พรพรรณ PM) ห้อง Audit...</td>\n      <td>2021-07-12</td>\n      <td>10:00 AM</td>\n      <td>2021-07-12</td>\n      <td>10:30 AM</td>\n    </tr>\n    <tr>\n      <th>2</th>\n      <td>Lecture 1 Cellular and body homeostasis (อ.ฐิ...</td>\n      <td>2021-07-12</td>\n      <td>10:30 AM</td>\n      <td>2021-07-12</td>\n      <td>11:30 AM</td>\n    </tr>\n    <tr>\n      <th>3</th>\n      <td>Lecture 2 Membrane transport and membrane pot...</td>\n      <td>2021-07-12</td>\n      <td>01:30 PM</td>\n      <td>2021-07-12</td>\n      <td>03:30 PM</td>\n    </tr>\n    <tr>\n      <th>4</th>\n      <td>Lecture 3 Excitable cell impulse and synaptic...</td>\n      <td>2021-07-13</td>\n      <td>10:00 AM</td>\n      <td>2021-07-13</td>\n      <td>12:00 PM</td>\n    </tr>\n    <tr>\n      <th>...</th>\n      <td>...</td>\n      <td>...</td>\n      <td>...</td>\n      <td>...</td>\n      <td>...</td>\n    </tr>\n    <tr>\n      <th>243</th>\n      <td>RAGE 201\\nResearch Tour</td>\n      <td>2021-12-03</td>\n      <td>01:30 PM</td>\n      <td>2021-12-03</td>\n      <td>05:00 PM</td>\n    </tr>\n    <tr>\n      <th>244</th>\n      <td>RESEARCH MARKET</td>\n      <td>2021-12-07</td>\n      <td>08:30 AM</td>\n      <td>2021-12-07</td>\n      <td>12:00 PM</td>\n    </tr>\n    <tr>\n      <th>245</th>\n      <td>RESEARCH MARKET</td>\n      <td>2021-12-07</td>\n      <td>01:30 PM</td>\n      <td>2021-12-07</td>\n      <td>05:00 PM</td>\n    </tr>\n    <tr>\n      <th>246</th>\n      <td>RESEARCH MARKET</td>\n      <td>2021-12-08</td>\n      <td>08:30 AM</td>\n      <td>2021-12-08</td>\n      <td>12:00 PM</td>\n    </tr>\n    <tr>\n      <th>247</th>\n      <td>RESEARCH MARKET</td>\n      <td>2021-12-08</td>\n      <td>01:30 PM</td>\n      <td>2021-12-08</td>\n      <td>05:00 PM</td>\n    </tr>\n  </tbody>\n</table>\n<p>248 rows × 5 columns</p>\n</div>"
     },
     "metadata": {}
    }
   ],
   "source": [
    "title = \"\"\n",
    "start_time = \"\"\n",
    "end_time = \"\"\n",
    "title_array =[]\n",
    "df = pd.DataFrame(columns= [\"Subject\",\"Start date\",\"Start time\",\"End date\",\"End time\"])\n",
    "for i in range(len(week_row)):\n",
    "    for col in ws.iter_cols(min_row=week_row[i]+1, max_row=list_check(week_row,i+1)-1,min_col =2):\n",
    "        for cell in col:\n",
    "            if cell.border.top.style is not None: \n",
    "                title = \"\"\n",
    "                start_time = ws.cell(row=cell.row, column=1).value[0:5]\n",
    "            try:\n",
    "                if cell.value not in title:\n",
    "                    if not (title[-1:] == \" \" or cell.value[0] == \" \"):\n",
    "                         title += \" \"\n",
    "                    title += cell.value\n",
    "            except TypeError:\n",
    "                pass\n",
    "            if cell.border.bottom.style is not None: \n",
    "                end_time = ws.cell(row=cell.row, column=1).value[-5:]\n",
    "                if title != \"\" and \"LUNCH\" not in title and \"LUNCH\" not in start_time and \"LUNCH\" not in end_time and \"วันหยุด\" not in title and \"วันนหยุด\" not in title:\n",
    "                    title_array.append(title)\n",
    "                    date = addYears(ws.cell(row=week_row[i],column = cell.column).value)\n",
    "                    a_series = pd.Series([title,date,time_12_to_24(start_time),date,time_12_to_24(end_time)], index = df.columns)\n",
    "                    df = df.append(a_series, ignore_index=True)\n",
    "pd.options.display.max_columns = None\n",
    "display(df)"
   ]
  },
  {
   "cell_type": "code",
   "execution_count": 206,
   "metadata": {},
   "outputs": [],
   "source": [
    "df.to_csv(\"y2t1.csv\")"
   ]
  },
  {
   "cell_type": "code",
   "execution_count": null,
   "metadata": {},
   "outputs": [],
   "source": []
  }
 ],
 "metadata": {
  "kernelspec": {
   "name": "python3",
   "display_name": "Python 3.9.4 64-bit ('CertGen': conda)"
  },
  "language_info": {
   "codemirror_mode": {
    "name": "ipython",
    "version": 2
   },
   "file_extension": ".py",
   "mimetype": "text/x-python",
   "name": "python",
   "nbconvert_exporter": "python",
   "pygments_lexer": "ipython2",
   "version": "3.9.4"
  },
  "interpreter": {
   "hash": "837d4c3ad5f3d5f4abf348bf3477faf66cbf3134b493b329422187b909fbaa07"
  }
 },
 "nbformat": 4,
 "nbformat_minor": 0
}